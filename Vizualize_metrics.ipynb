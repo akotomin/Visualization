{
 "cells": [
  {
   "cell_type": "code",
   "execution_count": 1,
   "metadata": {},
   "outputs": [],
   "source": [
    "import pandas as pd\n",
    "import seaborn as sns\n",
    "import matplotlib.pyplot as plt"
   ]
  },
  {
   "cell_type": "code",
   "execution_count": 2,
   "metadata": {},
   "outputs": [],
   "source": [
    "link_groups = 'groups.csv'\n",
    "link_groups_add = 'group_add.csv'\n",
    "link_active_studs = 'active_studs.csv'\n",
    "link_checks = 'checks.csv'"
   ]
  },
  {
   "cell_type": "code",
   "execution_count": 3,
   "metadata": {},
   "outputs": [],
   "source": [
    "groups = pd.read_csv(link_groups, sep=';')\n",
    "group_add = pd.read_csv(link_groups_add, sep=',')\n",
    "active_studs = pd.read_csv(link_active_studs)\n",
    "checks = pd.read_csv(link_checks, sep=';')"
   ]
  },
  {
   "cell_type": "code",
   "execution_count": 4,
   "metadata": {},
   "outputs": [],
   "source": [
    "def count_metrics(base_dataframe, input_data, active_studs, checks):\n",
    "    '''Функция для объединения DataFrame из разных источников и рассчета метрик\n",
    "\n",
    "    Позволяет объединить два DataFrame: либо загрузив один из CSV файла\n",
    "    по ссылке на файл, либо используя переданный объект DataFrame.\n",
    "    Результатом является DataFrame, содержащий в себе рассчитанные метрики\n",
    "\n",
    "    Параметры:\n",
    "        base_dataframe (pandas.core.frame.DataFrame):\n",
    "            исходный DataFrame, к которому будет присоеденены новые\n",
    "            данные из input_data.\n",
    "        input_data (str(link) or pandas.core.frame.DataFrame):\n",
    "            Если str(link), то ссылка на файл CSV для загрузки DataFrame.\n",
    "            Если объект DataFrame, то используется переданный DataFrame.\n",
    "        active_studs (pandas.core.frame.DataFrame)\n",
    "            Данные об активных пользователях, передается в DataFrame\n",
    "        checks (pandas.core.frame.DataFrame)\n",
    "            Данные о покупках пользователями, передается в DataFrame\n",
    "        '''\n",
    "    checks = checks.rename(columns={'student_id':'id'})\n",
    "    active_studs = active_studs.rename(columns={'student_id':'id'})\n",
    "    if isinstance(input_data, str):\n",
    "        # Если входные данные - строка (ссылка на файл), загружаем DataFrame из CSV\n",
    "        try:\n",
    "            df_from_csv = pd.read_csv(get_ydisk_url(input_data), sep=',')\n",
    "            result_df = pd.concat([base_dataframe,\n",
    "                                   df_from_csv],\n",
    "                                  ignore_index=True)\n",
    "            result_df = (active_studs.merge(checks,\n",
    "                                            on='id',\n",
    "                                            how='left')\n",
    "                                     .merge(result_df,\n",
    "                                            on='id',\n",
    "                                            how='left')\n",
    "                                     .fillna(0))\n",
    "            result_df['convert'] = result_df['rev'] != 0\n",
    "            result_df = (\n",
    "                            metrics_df.groupby('grp', as_index=False)\n",
    "                                      .agg(paid_users=('convert', 'sum'),\n",
    "                                           all_users=('id', 'count'),\n",
    "                                           revenue=('rev', 'sum'))\n",
    "                        )\n",
    "            metrics = pd.DataFrame()\n",
    "            metrics['Group'] = result_df.grp\n",
    "            metrics['CR'] = round((result_df.paid_users\n",
    "                                   / result_df.all_users)*100, 2)\n",
    "            metrics['ARPU'] = round((result_df.revenue\n",
    "                                     / result_df.all_users), 2)\n",
    "            metrics['ARPPU'] = round((result_df.revenue\n",
    "                                      / result_df.paid_users), 2)\n",
    "            return metrics\n",
    "        except:\n",
    "            print(\"Ошибка при загрузке или обработке CSV файла.\")\n",
    "            return None\n",
    "    elif isinstance(input_data, pd.core.frame.DataFrame):\n",
    "        # Если входные данные - DataFrame, сразу конкатенируем\n",
    "        result_df = pd.concat([base_dataframe,\n",
    "                               input_data],\n",
    "                              ignore_index=True)\n",
    "        result_df = (active_studs.merge(checks,\n",
    "                                        on='id',\n",
    "                                        how='left')\n",
    "                                     .merge(result_df,\n",
    "                                            on='id',\n",
    "                                            how='left')\n",
    "                                     .fillna(0))\n",
    "        result_df['convert'] = result_df['rev'] != 0\n",
    "        result_df = (\n",
    "                        result_df.groupby('grp',\n",
    "                                          as_index=False)\n",
    "                                 .agg(paid_users=('convert',\n",
    "                                                  'sum'),\n",
    "                                      all_users=('id',\n",
    "                                                 'count'),\n",
    "                                      revenue=('rev',\n",
    "                                               'sum'))\n",
    "                    )\n",
    "        metrics = pd.DataFrame()\n",
    "        metrics['Group'] = result_df.grp\n",
    "        metrics['CR'] = round((result_df.paid_users\n",
    "                               / result_df.all_users)*100, 2)\n",
    "        metrics['ARPU'] = round((result_df.revenue\n",
    "                                 / result_df.all_users), 2)\n",
    "        metrics['ARPPU'] = round((result_df.revenue\n",
    "                                  / result_df.paid_users), 2)\n",
    "        return metrics\n",
    "    else:\n",
    "        print(\"Неподдерживаемый тип данных.\")\n",
    "        return None"
   ]
  },
  {
   "cell_type": "code",
   "execution_count": 5,
   "metadata": {},
   "outputs": [
    {
     "data": {
      "text/html": [
       "<div>\n",
       "<style scoped>\n",
       "    .dataframe tbody tr th:only-of-type {\n",
       "        vertical-align: middle;\n",
       "    }\n",
       "\n",
       "    .dataframe tbody tr th {\n",
       "        vertical-align: top;\n",
       "    }\n",
       "\n",
       "    .dataframe thead th {\n",
       "        text-align: right;\n",
       "    }\n",
       "</style>\n",
       "<table border=\"1\" class=\"dataframe\">\n",
       "  <thead>\n",
       "    <tr style=\"text-align: right;\">\n",
       "      <th></th>\n",
       "      <th>Group</th>\n",
       "      <th>CR</th>\n",
       "      <th>ARPU</th>\n",
       "      <th>ARPPU</th>\n",
       "    </tr>\n",
       "  </thead>\n",
       "  <tbody>\n",
       "    <tr>\n",
       "      <th>0</th>\n",
       "      <td>A</td>\n",
       "      <td>5.07</td>\n",
       "      <td>47.35</td>\n",
       "      <td>933.59</td>\n",
       "    </tr>\n",
       "    <tr>\n",
       "      <th>1</th>\n",
       "      <td>B</td>\n",
       "      <td>4.62</td>\n",
       "      <td>58.06</td>\n",
       "      <td>1257.88</td>\n",
       "    </tr>\n",
       "  </tbody>\n",
       "</table>\n",
       "</div>"
      ],
      "text/plain": [
       "  Group    CR   ARPU    ARPPU\n",
       "0     A  5.07  47.35   933.59\n",
       "1     B  4.62  58.06  1257.88"
      ]
     },
     "execution_count": 5,
     "metadata": {},
     "output_type": "execute_result"
    }
   ],
   "source": [
    "df = count_metrics(groups, group_add, active_studs, checks)\n",
    "df"
   ]
  },
  {
   "cell_type": "code",
   "execution_count": 6,
   "metadata": {},
   "outputs": [],
   "source": [
    "def graphics(data):\n",
    "    fig, axes = plt.subplots(1, 3, figsize=(17, 5))\n",
    "    sns.barplot(x=data.Group,\n",
    "                y=data.CR,\n",
    "                ax=axes[0],\n",
    "                palette='pastel')\n",
    "    axes[0].set_title(\"CR\",\n",
    "                      fontsize=20)\n",
    "    axes[0].set_ylabel('%',\n",
    "                       fontsize='large',\n",
    "                       rotation='horizontal',\n",
    "                       labelpad=20)\n",
    "    axes[0].set_xlabel('Group')\n",
    "    sns.barplot(x=data.Group,\n",
    "                y=data.ARPU,\n",
    "                ax=axes[1],\n",
    "                palette='husl')\n",
    "    axes[1].set_title('ARPU',\n",
    "                      fontsize=20)\n",
    "    axes[1].set_ylabel('$',\n",
    "                       fontsize='large',\n",
    "                       rotation='horizontal',\n",
    "                       labelpad=15)\n",
    "    axes[1].set_xlabel('Group')\n",
    "    sns.barplot(x=data.Group,\n",
    "                y=data.ARPPU,\n",
    "                ax=axes[2],\n",
    "                palette='Spectral')\n",
    "    axes[2].set_title('ARPPU',\n",
    "                      fontsize=20)\n",
    "    axes[2].set_ylabel('$',\n",
    "                       fontsize='large',\n",
    "                       rotation='horizontal',\n",
    "                       labelpad=3)\n",
    "    axes[2].set_xlabel('Group')\n",
    "    plt.show()"
   ]
  },
  {
   "cell_type": "code",
   "execution_count": 7,
   "metadata": {},
   "outputs": [
    {
     "data": {
      "image/png": "[encoded data removed]",
      "text/plain": [
       "<Figure size 1700x500 with 3 Axes>"
      ]
     },
     "metadata": {},
     "output_type": "display_data"
    }
   ],
   "source": [
    "graphics(df)"
   ]
  }
 ],
 "metadata": {
  "kernelspec": {
   "display_name": "Python 3 (ipykernel)",
   "language": "python",
   "name": "python3"
  },
  "language_info": {
   "codemirror_mode": {
    "name": "ipython",
    "version": 3
   },
   "file_extension": ".py",
   "mimetype": "text/x-python",
   "name": "python",
   "nbconvert_exporter": "python",
   "pygments_lexer": "ipython3",
   "version": "3.11.2"
  }
 },
 "nbformat": 4,
 "nbformat_minor": 4
}
